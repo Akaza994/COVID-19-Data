{
 "cells": [
  {
   "cell_type": "code",
   "execution_count": 6,
   "metadata": {},
   "outputs": [],
   "source": [
    "import tensorflow as tf\n",
    "import numpy as np\n",
    "import pandas as pd"
   ]
  },
  {
   "cell_type": "code",
   "execution_count": 7,
   "metadata": {},
   "outputs": [
    {
     "name": "stdout",
     "output_type": "stream",
     "text": [
      "20\n"
     ]
    }
   ],
   "source": [
    "df=pd.read_csv('italy.csv')\n",
    "print(len(df.columns))\n",
    "Italy_regions=['Lombardia','Emilia-Romagna','Piemonte','Veneto','Toscana','Marche','Liguria','Abruzzo',\n",
    "               'Umbria','Molise','Campania','Lazio','Valle d\\'Aosta','Puglia','Basilicata','Campania']\n",
    "populations=[10060000.0,4459000.0,4356000.0,4906000.0,3730000.0,1525000.0,1551000.0,\n",
    "            1312000.0,882015.0,305617.0,5802000.0,5879000.0,125666.0,4029000.0,562869.0,5802000.0]\n",
    "targets=['Lombardia']\n",
    "regions1=['Emilia-Romagna','Piemonte','Veneto']\n",
    "neighbors={}\n",
    "neighbors['Lombardia']=regions1\n",
    "pops={}\n",
    "vals=df['Lombardia'].values\n",
    "split_num=int(vals.shape[0]*0.70)\n",
    "for i, region in enumerate(Italy_regions):\n",
    "    pops[region]=populations[i]\n",
    "p=3\n",
    "X_node={}\n",
    "X_edge={}\n",
    "Y_vals={}\n",
    "length=0\n",
    "split_num=0\n",
    "for target in targets:\n",
    "    vals=df[target].values\n",
    "    length=vals.shape[0]-p\n",
    "    split_num=int(vals.shape[0]*0.70)\n",
    "    X=[]\n",
    "    Y=[]\n",
    "    for i in range(p,vals.shape[0]):\n",
    "        feature=[]\n",
    "        label=[vals[i]/pops[target]]\n",
    "        for j in range(1,p+1):\n",
    "            feature.append(vals[i-j]/pops[target])\n",
    "        X.append(feature)\n",
    "        Y.append(label)\n",
    "    train_node=np.asarray(X,dtype=np.float32)\n",
    "    train_edge=np.zeros((train_node.shape[0],train_node.shape[1]),dtype=np.float32)\n",
    "    states=neighbors[target]\n",
    "    for state in states:\n",
    "        matrix=[]\n",
    "        evals=df[state].values\n",
    "        for i in range(p,vals.shape[0]):\n",
    "            temp=[]\n",
    "            for j in range(1,p+1):\n",
    "                temp.append(evals[i-j]/(pops[state]*len(states)))\n",
    "            matrix.append(temp)\n",
    "    train_edge+=np.asarray(matrix,dtype=np.float32)\n",
    "    \n",
    "\n",
    "    X_node[target+'_train']=train_node[:split_num,:]\n",
    "    X_node[target+'_test']=train_node[split_num:,:]\n",
    "    X_edge[target+'_train']=train_edge[:split_num,:]\n",
    "    m,n=X_edge[target+'_train'].shape\n",
    "    X_edge[target+'_train']=X_edge[target+'_train'].reshape((m,n,1))\n",
    "    X_edge[target+'_test']=train_edge[split_num:,:]\n",
    "    m,n=X_edge[target+'_test'].shape\n",
    "    X_edge[target+'_test']=X_edge[target+'_test'].reshape((m,n,1))\n",
    "    Y=np.asarray(Y,dtype=np.float32)\n",
    "\n",
    "    Y_vals[target+'_train']=Y[:split_num,:]\n",
    "    Y_vals[target+'_test']=Y[split_num:,:]\n",
    "    \n",
    "T=np.arange(length,dtype=np.float32)\n",
    "T_train=T[:split_num]\n",
    "T_test=T[split_num:]"
   ]
  },
  {
   "cell_type": "code",
   "execution_count": 17,
   "metadata": {},
   "outputs": [],
   "source": [
    "tf.reset_default_graph()\n",
    "alpha=tf.Variable(0.8,trainable=True) \n",
    "beta_1=tf.Variable(0.3,trainable=True) \n",
    "beta_2=tf.Variable(0.15,trainable=True) \n",
    "gamma=tf.Variable(0.22,trainable=True) \n",
    "cell=tf.contrib.rnn.MultiRNNCell([tf.contrib.rnn.BasicLSTMCell(num_units=nu) for nu in [20,40,20]])\n",
    "LSTM_cell=tf.contrib.rnn.MultiRNNCell([tf.contrib.rnn.BasicLSTMCell(num_units=nu) for nu in [20,40,20]])\n",
    "Ie={}\n",
    "loss={}\n",
    "node_features={}\n",
    "edge_features={}\n",
    "Y_t={}\n",
    "T=tf.placeholder(dtype=tf.float32,shape=[None])\n",
    "train_node=tf.placeholder(dtype=tf.float32,shape=[None,p])\n",
    "train_edge=tf.placeholder(dtype=tf.float32,shape=[None,p,1])\n",
    "Y=tf.placeholder(dtype=tf.float32,shape=[None,1])\n",
    "\n",
    "edge_output, _ = tf.nn.dynamic_rnn(  # (N, T, D)\n",
    "                    cell=cell,\n",
    "                    dtype=tf.float32,\n",
    "                    #inputs=train_edge.reshape((train_edge.shape[0],train_edge.shape[1],1))\n",
    "                    inputs=train_edge\n",
    "    )\n",
    "Ie=tf.layers.dense(edge_output[:,-1,:],units=1,activation=tf.tanh)\n",
    "Ie=tf.reshape(Ie,shape=[tf.shape(train_edge)[0]])\n",
    "I1=(1-gamma)*train_node[:,0]\n",
    "I2=(beta_1*train_node[:,0]+beta_2*Ie)*(1-train_node[:,0]-gamma*T/(p+1)*tf.reduce_sum(train_node,1))\n",
    "Y_hat=I1+I2\n",
    "\n",
    "\n",
    "\n",
    "loss=tf.reduce_mean(tf.square(Y-Y_hat))\n",
    "tv=tf.trainable_variables()  \n",
    "regularization_cost=0.0005*tf.reduce_sum([tf.nn.l2_loss(v) for v in tv])\n",
    "train_op1=tf.train.AdamOptimizer(learning_rate=0.01).minimize(loss)\n",
    "train_op2=tf.train.AdamOptimizer(learning_rate=0.001).minimize(loss)\n",
    "    \n"
   ]
  },
  {
   "cell_type": "code",
   "execution_count": 18,
   "metadata": {},
   "outputs": [
    {
     "name": "stdout",
     "output_type": "stream",
     "text": [
      "3.1726581e-06\n",
      "5.8327914e-05\n",
      "4.610513e-06\n",
      "1.1375734e-05\n",
      "2.0554993e-05\n",
      "1.5291133e-05\n",
      "6.5669224e-06\n",
      "3.0982173e-06\n",
      "5.776823e-06\n",
      "8.899828e-06\n",
      "8.412382e-06\n",
      "6.041539e-06\n",
      "4.067283e-06\n",
      "3.150159e-06\n",
      "3.0090002e-06\n",
      "3.2183343e-06\n",
      "3.4903208e-06\n",
      "3.6860151e-06\n",
      "3.763752e-06\n",
      "3.733227e-06\n",
      "3.6253189e-06\n",
      "3.3341073e-06\n",
      "3.120415e-06\n",
      "2.9804996e-06\n",
      "2.9045814e-06\n",
      "2.8791412e-06\n",
      "2.8881138e-06\n",
      "2.9146333e-06\n",
      "2.9436794e-06\n",
      "2.9646474e-06\n",
      "2.9724072e-06\n",
      "2.9665666e-06\n",
      "2.949817e-06\n",
      "2.9262364e-06\n",
      "2.900021e-06\n",
      "2.874712e-06\n",
      "2.8528345e-06\n",
      "2.8357993e-06\n",
      "2.824004e-06\n",
      "2.816989e-06\n"
     ]
    }
   ],
   "source": [
    "target='Lombardia'\n",
    "train_n=X_node[target+'_train']\n",
    "train_e=X_edge[target+'_train']\n",
    "Y_train=Y_vals[target+'_train']\n",
    "Y_test=Y_vals[target+'_test']\n",
    "test_node=X_node[target+'_test']\n",
    "test_edge=X_edge[target+'_test']\n",
    "with tf.Session() as sess:  \n",
    "    sess.run(tf.global_variables_initializer())\n",
    "    for i in range(20):\n",
    "        _,Loss=sess.run([train_op1,loss],feed_dict={train_node:train_n,train_edge:train_e,Y:Y_train,T:T_train})\n",
    "        print(Loss)\n",
    "    for i in range(20):\n",
    "        _,Loss=sess.run([train_op2,loss],feed_dict={train_node:train_n,train_edge:train_e,Y:Y_train,T:T_train})\n",
    "        print(Loss)\n",
    "    prediction_train=sess.run(Y_hat,feed_dict={train_node:train_n,train_edge:train_e,Y:Y_train,T:T_train})\n",
    "    prediction_test=sess.run(Y_hat,feed_dict={train_node:test_node,train_edge:test_edge,Y:Y_test,T:T_test})"
   ]
  },
  {
   "cell_type": "code",
   "execution_count": 19,
   "metadata": {},
   "outputs": [
    {
     "name": "stdout",
     "output_type": "stream",
     "text": [
      "32\n"
     ]
    },
    {
     "data": {
      "image/png": "[encoded data removed]",
      "text/plain": [
       "<Figure size 432x288 with 1 Axes>"
      ]
     },
     "metadata": {
      "needs_background": "light"
     },
     "output_type": "display_data"
    }
   ],
   "source": [
    "import matplotlib.pyplot as plt\n",
    "%matplotlib inline\n",
    "prediction=np.concatenate((prediction_train,prediction_test),axis=0)\n",
    "y=np.concatenate((Y_train,Y_test),axis=0)\n",
    "print(prediction_test.shape[0])\n",
    "plt.plot(y,label='exact')\n",
    "plt.plot(prediction,label='prediction')\n",
    "plt.axvline(x=split_num,label='train-test split',linestyle='dashed',color='black')\n",
    "plt.title(target)\n",
    "plt.legend()\n",
    "plt.show()"
   ]
  },
  {
   "cell_type": "code",
   "execution_count": null,
   "metadata": {},
   "outputs": [],
   "source": []
  }
 ],
 "metadata": {
  "kernelspec": {
   "display_name": "Python 2",
   "language": "python",
   "name": "python2"
  },
  "language_info": {
   "codemirror_mode": {
    "name": "ipython",
    "version": 2
   },
   "file_extension": ".py",
   "mimetype": "text/x-python",
   "name": "python",
   "nbconvert_exporter": "python",
   "pygments_lexer": "ipython2",
   "version": "2.7.16"
  }
 },
 "nbformat": 4,
 "nbformat_minor": 2
}
