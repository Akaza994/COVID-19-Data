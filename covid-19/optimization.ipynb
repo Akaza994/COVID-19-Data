{
 "cells": [
  {
   "cell_type": "code",
   "execution_count": 4,
   "metadata": {},
   "outputs": [],
   "source": [
    "import numpy as np\n",
    "import matplotlib.pyplot as plt\n",
    "%matplotlib inline\n",
    "import pandas as pd\n",
    "from scipy.optimize import minimize \n",
    "df=np.loadtxt('US.csv',)\n",
    "N=327000000.0\n",
    "I=[]\n",
    "for i in range(len(df)-1):\n",
    "    I.append((df[i+1]-df[i])/N)\n",
    "exact=I[:]"
   ]
  },
  {
   "cell_type": "code",
   "execution_count": 2,
   "metadata": {},
   "outputs": [],
   "source": [
    "def rmse(ybar,y):\n",
    "    error=0\n",
    "    for i in range(len(y)):\n",
    "        error+=(y[i]-ybar[i])**2\n",
    "    error=np.sqrt(error/float(len(y)))\n",
    "    return error"
   ]
  },
  {
   "cell_type": "code",
   "execution_count": 3,
   "metadata": {},
   "outputs": [],
   "source": [
    "def discrete(I,mu=0.90,gamma=0.09,beta1=0.42,beta2=0.012,p=5):\n",
    "    #prediction=I[:p]\n",
    "    for i in range(p,len(I)):\n",
    "        term1=(1-gamma)*I[i-1]\n",
    "        s=0\n",
    "        for j in range(i-p,i):\n",
    "            s+=I[j]\n",
    "        term2=mu*beta1*I[i-1]*(1-I[i-1]-beta2*i*s/(p+1))\n",
    "        yhat=term1+term2\n",
    "        I[i]=yhat\n",
    "        #prediction.append(yhat)\n",
    "    return I"
   ]
  },
  {
   "cell_type": "code",
   "execution_count": 6,
   "metadata": {},
   "outputs": [
    {
     "data": {
      "image/png": "[encoded data removed]",
      "text/plain": [
       "<Figure size 432x288 with 1 Axes>"
      ]
     },
     "metadata": {
      "needs_background": "light"
     },
     "output_type": "display_data"
    }
   ],
   "source": [
    "I=discrete(I)\n",
    "plt.plot(I)\n",
    "plt.plot(exact)\n",
    "plt.show()"
   ]
  },
  {
   "cell_type": "code",
   "execution_count": 10,
   "metadata": {},
   "outputs": [
    {
     "data": {
      "text/plain": [
       "      fun: 7.802045703730562e-06\n",
       " hess_inv: array([[253.77515021]])\n",
       "      jac: array([5.79909556e-06])\n",
       "  message: 'Optimization terminated successfully.'\n",
       "     nfev: 30\n",
       "      nit: 2\n",
       "     njev: 10\n",
       "   status: 0\n",
       "  success: True\n",
       "        x: array([0.03537449])"
      ]
     },
     "execution_count": 10,
     "metadata": {},
     "output_type": "execute_result"
    }
   ],
   "source": [
    "gamma=0.09\n",
    "mu=0.9\n",
    "beta1=0.42\n",
    "beta2=0.012\n",
    "#define a function that take gamma as input variable\n",
    "def Gamma(gamma,I,exact,mu=0.9, beta1=0.42,beta2=0.012,p=3):\n",
    "    for i in range(p,len(I)):\n",
    "        term1=(1-gamma)*I[i-1]\n",
    "        s=0\n",
    "        for j in range(i-p,i):\n",
    "            s+=I[j]\n",
    "        term2=mu*beta1*I[i-1]*(1-I[i-1]-beta2*i*s/(p+1))\n",
    "        yhat=term1+term2\n",
    "        I[i]=yhat\n",
    "    error=rmse(I,exact)\n",
    "    return error\n",
    "var=minimize(Gamma,gamma,args=(I,exact,mu,beta1,beta2,3))\n",
    "var"
   ]
  },
  {
   "cell_type": "code",
   "execution_count": 11,
   "metadata": {},
   "outputs": [
    {
     "data": {
      "text/plain": [
       "      fun: array([7.8020457e-06])\n",
       " hess_inv: array([[1]])\n",
       "      jac: array([-2.43589182e-06])\n",
       "  message: 'Optimization terminated successfully.'\n",
       "     nfev: 3\n",
       "      nit: 0\n",
       "     njev: 1\n",
       "   status: 0\n",
       "  success: True\n",
       "        x: array([0.9])"
      ]
     },
     "execution_count": 11,
     "metadata": {},
     "output_type": "execute_result"
    }
   ],
   "source": [
    "gamma=var['x'][0]\n",
    "def Mu(mu,I,exact, gamma, beta1,beta2,p=3):\n",
    "    for i in range(p,len(I)):\n",
    "        term1=(1-gamma)*I[i-1]\n",
    "        s=0\n",
    "        for j in range(i-p,i):\n",
    "            s+=I[j]\n",
    "        term2=mu*beta1*I[i-1]*(1-I[i-1]-beta2*i*s/(p+1))\n",
    "        yhat=term1+term2\n",
    "        I[i]=yhat\n",
    "    error=rmse(I,exact)\n",
    "    return error\n",
    "minimize(Mu,mu,args=(I,exact,gamma,beta1,beta2,3))\n",
    "#it does not optimize mu any more"
   ]
  },
  {
   "cell_type": "code",
   "execution_count": 13,
   "metadata": {},
   "outputs": [
    {
     "name": "stdout",
     "output_type": "stream",
     "text": [
      "(0.035374491067210884, 0.9, 0.42, 0.012)\n"
     ]
    }
   ],
   "source": [
    "def Beta1(beta1, I, exact, gamma, mu, beta2, p=3):\n",
    "    for i in range(p,len(I)):\n",
    "        term1=(1-gamma)*I[i-1]\n",
    "        s=0\n",
    "        for j in range(i-p,i):\n",
    "            s+=I[j]\n",
    "        term2=mu*beta1*I[i-1]*(1-I[i-1]-beta2*i*s/(p+1))\n",
    "        yhat=term1+term2\n",
    "        I[i]=yhat\n",
    "    error=rmse(I,exact)\n",
    "    return error\n",
    "def Beta2(beta2, I, exact, gamma, mu, beta1, p=3):\n",
    "    for i in range(p,len(I)):\n",
    "        term1=(1-gamma)*I[i-1]\n",
    "        s=0\n",
    "        for j in range(i-p,i):\n",
    "            s+=I[j]\n",
    "        term2=mu*beta1*I[i-1]*(1-I[i-1]-beta2*i*s/(p+1))\n",
    "        yhat=term1+term2\n",
    "        I[i]=yhat\n",
    "    error=rmse(I,exact)\n",
    "    return error\n",
    "#trying to do alternative updating for 5 iterations\n",
    "for i in range(5):\n",
    "    gamma=minimize(Gamma,gamma,args=(I,exact,mu,beta1,beta2,3))['x'][0]\n",
    "    mu=minimize(Mu,mu,args=(I,exact,gamma,beta1,beta2,3))['x'][0]\n",
    "    beta1=minimize(Beta1,beta1,args=(I,exact,gamma,mu,beta2,3))['x'][0]\n",
    "    beta2=minimize(Beta2,beta2,args=(I,exact,gamma,mu,beta1,3))['x'][0]\n",
    "print(a,b,c,d)"
   ]
  },
  {
   "cell_type": "code",
   "execution_count": null,
   "metadata": {},
   "outputs": [],
   "source": []
  }
 ],
 "metadata": {
  "kernelspec": {
   "display_name": "Python 2",
   "language": "python",
   "name": "python2"
  },
  "language_info": {
   "codemirror_mode": {
    "name": "ipython",
    "version": 2
   },
   "file_extension": ".py",
   "mimetype": "text/x-python",
   "name": "python",
   "nbconvert_exporter": "python",
   "pygments_lexer": "ipython2",
   "version": "2.7.16"
  }
 },
 "nbformat": 4,
 "nbformat_minor": 2
}
